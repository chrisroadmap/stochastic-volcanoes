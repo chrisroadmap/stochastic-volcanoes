{
 "cells": [
  {
   "cell_type": "markdown",
   "id": "a44e6807-4dd3-44a4-9084-25d4a69853a4",
   "metadata": {},
   "source": [
    "# Make solar forcing\n",
    "\n",
    "As we have volcanic monthly, we also want solar monthly. Follow the AR6 method, and set solar forcing to be zero over the 1750-2014 mean."
   ]
  },
  {
   "cell_type": "code",
   "execution_count": null,
   "id": "ccb9e760-87b8-44d5-8a5e-c36c0bc1cb60",
   "metadata": {},
   "outputs": [],
   "source": [
    "import os\n",
    "\n",
    "import matplotlib.pyplot as pl\n",
    "from netCDF4 import Dataset\n",
    "import numpy as np\n",
    "import pandas as pd\n",
    "import pooch\n",
    "from scipy.interpolate import interp1d"
   ]
  },
  {
   "cell_type": "code",
   "execution_count": null,
   "id": "104243c8-99df-4c62-941e-ba914837842a",
   "metadata": {},
   "outputs": [],
   "source": [
    "satire14c = pooch.retrieve(\n",
    "    url = \"https://sharebox.lsce.ipsl.fr/index.php/s/LpiCUCkSmx0P6bb/download?path=%2F&files=SSI_14C_cycle_yearly_cmip_v20160613_fc.nc\",\n",
    "    known_hash=\"7a973502cdcfa492f2006bd1283827f8b0ef632efd7cf32a2d67ec350bfa2da1\"\n",
    ")"
   ]
  },
  {
   "cell_type": "code",
   "execution_count": null,
   "id": "66ecdf73-6caa-49a5-bf5b-60b2d219512f",
   "metadata": {},
   "outputs": [],
   "source": [
    "nc = Dataset(satire14c)\n",
    "wl_bin = nc.variables['wavelength_bin'][:]\n",
    "time   = nc.variables['time'][:]\n",
    "ssi    = nc.variables['ssi'][:]\n",
    "nc.close()"
   ]
  },
  {
   "cell_type": "code",
   "execution_count": null,
   "id": "4686a1e7-dfe3-476e-90f9-bd1626d67d25",
   "metadata": {},
   "outputs": [],
   "source": [
    "time[8504], time[8604], time[8605]"
   ]
  },
  {
   "cell_type": "code",
   "execution_count": null,
   "id": "ed23a217-f57b-407d-a9cb-79c8fc1a51d9",
   "metadata": {},
   "outputs": [],
   "source": [
    "time_17495_18500 = time[8504:8606]"
   ]
  },
  {
   "cell_type": "code",
   "execution_count": null,
   "id": "3455cb73-c9fb-4922-8152-576f2990d183",
   "metadata": {},
   "outputs": [],
   "source": [
    "tsi_yearly_17495_18500 = np.zeros(102)\n",
    "for idx in range(8504, 8606):\n",
    "    tsi_yearly_17495_18500[idx-8504] = np.sum(ssi[idx,:]*wl_bin)"
   ]
  },
  {
   "cell_type": "code",
   "execution_count": null,
   "id": "dadd0e7e-1019-4daf-8148-6a720d5a6e5a",
   "metadata": {},
   "outputs": [],
   "source": [
    "cmip6 = pooch.retrieve(\n",
    "    url = \"http://aims3.llnl.gov/thredds/fileServer/user_pub_work/input4MIPs/CMIP6/CMIP/SOLARIS-HEPPA/SOLARIS-HEPPA-3-2/atmos/mon/multiple/gm/v20170103/solarforcing-ref-mon_input4MIPs_solar_CMIP_SOLARIS-HEPPA-3-2_gn_185001-229912.nc\",\n",
    "    known_hash=\"4b844a3324b74be16faf7272b64ed7853ea2c606c4db841a318366ad223ebcac\"\n",
    ")"
   ]
  },
  {
   "cell_type": "code",
   "execution_count": null,
   "id": "72509d69-a9c9-4543-a15a-e219387150a8",
   "metadata": {},
   "outputs": [],
   "source": [
    "nc = Dataset(cmip6)\n",
    "tsi = nc.variables['tsi'][:]\n",
    "time_cmip6 = nc.variables['time'][:]\n",
    "nc.close()"
   ]
  },
  {
   "cell_type": "code",
   "execution_count": null,
   "id": "8165a744-b4fc-4bdb-9889-2d8737893b1f",
   "metadata": {},
   "outputs": [],
   "source": [
    "time_cmip6 # looks like midmonth"
   ]
  },
  {
   "cell_type": "code",
   "execution_count": null,
   "id": "6fea33f8-c558-47b5-a4b6-d2252afeb260",
   "metadata": {},
   "outputs": [],
   "source": [
    "time_cmip6 = np.arange(1850+1/24, 2300, 1/12)"
   ]
  },
  {
   "cell_type": "code",
   "execution_count": null,
   "id": "c0c732d9-4bc8-4782-8671-86778bcd0a69",
   "metadata": {},
   "outputs": [],
   "source": [
    "pl.plot(time_17495_18500, tsi_yearly_17495_18500)\n",
    "pl.plot(time_cmip6, tsi)"
   ]
  },
  {
   "cell_type": "code",
   "execution_count": null,
   "id": "8db29b64-542c-4bc1-9132-94fb364b70f9",
   "metadata": {},
   "outputs": [],
   "source": [
    "# interpolate on to month end grid\n",
    "# for 1750 to 1850 linear interpolation is fine\n",
    "tsi_monthend = np.zeros(12*(2300-1750))\n",
    "interpolator = interp1d(time_17495_18500, tsi_yearly_17495_18500)\n",
    "tsi_monthend[:100*12+1] = interpolator(np.arange(1750, 1850+1/12, 1/12))"
   ]
  },
  {
   "cell_type": "code",
   "execution_count": null,
   "id": "83df779e-e97c-48cf-8820-69ca5b58cbea",
   "metadata": {},
   "outputs": [],
   "source": [
    "interpolator = interp1d(time_cmip6, tsi)\n",
    "tsi_monthend[100*12+1:] = interpolator(np.arange(1850+1/12, 2300-0.0001, 1/12))"
   ]
  },
  {
   "cell_type": "code",
   "execution_count": null,
   "id": "81b19e81-de35-4f62-9948-1b635cf87b48",
   "metadata": {},
   "outputs": [],
   "source": [
    "tsi_monthend[100*12+1:]"
   ]
  },
  {
   "cell_type": "code",
   "execution_count": null,
   "id": "210458ef-d2cb-490b-a942-e632af96f1fc",
   "metadata": {},
   "outputs": [],
   "source": [
    "# now calculate a 1750-2014 mean\n",
    "weights = np.ones(265*12+1)\n",
    "weights[0] = 0.5\n",
    "weights[-1] = 0.5\n",
    "mean_17502014 = np.average(tsi_monthend[:(265*12)+1], weights=weights)\n",
    "mean_17502014"
   ]
  },
  {
   "cell_type": "markdown",
   "id": "1ee23562-8b92-48fb-a7b4-8eb8e52954f2",
   "metadata": {},
   "source": [
    "## Calculate solar effective radiative forcing\n",
    "\n",
    "$ \\frac{1}{4} \\cdot 0.71 \\cdot 0.72 \\left(TSI - TSI_{\\mathrm{ref}} \\right)$"
   ]
  },
  {
   "cell_type": "code",
   "execution_count": null,
   "id": "ca0b6a34-14f6-4138-8799-10e8bf4d7851",
   "metadata": {},
   "outputs": [],
   "source": [
    "solar_erf_monthend = 0.25 * 0.71 * 0.72 * (tsi_monthend - mean_17502014)"
   ]
  },
  {
   "cell_type": "code",
   "execution_count": null,
   "id": "caff536c-5b18-44b4-ac35-7f42321789ee",
   "metadata": {},
   "outputs": [],
   "source": [
    "pl.plot(np.arange(1750, 2300, 1/12), solar_erf_monthend)"
   ]
  },
  {
   "cell_type": "code",
   "execution_count": null,
   "id": "216c3465-d66c-4838-ab85-d29eef54250a",
   "metadata": {},
   "outputs": [],
   "source": [
    "df_out = pd.DataFrame({'solar_erf': solar_erf_monthend}, index=np.arange(1750, 2300, 1/12))\n",
    "df_out"
   ]
  },
  {
   "cell_type": "code",
   "execution_count": null,
   "id": "f5c43a1e-c37d-431b-9716-d45f935b0d5f",
   "metadata": {},
   "outputs": [],
   "source": [
    "os.makedirs('../data/solar-forcing')\n",
    "df_out.to_csv('../data/solar-forcing/forcing_monthly_1750-2299')"
   ]
  }
 ],
 "metadata": {
  "kernelspec": {
   "display_name": "Python 3 (ipykernel)",
   "language": "python",
   "name": "python3"
  },
  "language_info": {
   "codemirror_mode": {
    "name": "ipython",
    "version": 3
   },
   "file_extension": ".py",
   "mimetype": "text/x-python",
   "name": "python",
   "nbconvert_exporter": "python",
   "pygments_lexer": "ipython3",
   "version": "3.11.0"
  }
 },
 "nbformat": 4,
 "nbformat_minor": 5
}
