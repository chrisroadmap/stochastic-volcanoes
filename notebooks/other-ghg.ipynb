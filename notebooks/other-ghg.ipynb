{
 "cells": [
  {
   "cell_type": "markdown",
   "id": "483b9fa1-5486-489f-806b-e5478e4244f0",
   "metadata": {},
   "source": [
    "# Create a forcing time series of aerosols and ozone\n",
    "\n",
    "We want a forcing time series that we can implement directly into fair for Magali."
   ]
  },
  {
   "cell_type": "code",
   "execution_count": null,
   "id": "b151385b-8321-4a82-a2e8-534b26e49575",
   "metadata": {},
   "outputs": [],
   "source": [
    "import numpy as np\n",
    "import pandas as pd\n",
    "from fair import FAIR\n",
    "from fair.interface import fill, initialise\n",
    "from scipy.interpolate import interp1d\n",
    "import xarray as xr\n",
    "import matplotlib.pyplot as pl"
   ]
  },
  {
   "cell_type": "code",
   "execution_count": null,
   "id": "adf11aea-e386-4f9f-87c1-a0262e476c81",
   "metadata": {},
   "outputs": [],
   "source": [
    "ghg = pd.read_csv('../data/concentration/ch4_n2o_concentrations_1750-1901.csv', index_col='time')"
   ]
  },
  {
   "cell_type": "code",
   "execution_count": null,
   "id": "3c29bc3c-82ce-4aa5-b794-05b391e04255",
   "metadata": {},
   "outputs": [],
   "source": [
    "concentrations = np.zeros((152, 2))\n",
    "concentrations[0, :] = ghg.loc[1750.5, :]\n",
    "interpolator = interp1d(ghg.index, ghg.values, axis=0)\n",
    "concentrations[1:, :] = interpolator(np.arange(1751, 1902))\n",
    "concentrations = pd.DataFrame(\n",
    "    concentrations,\n",
    "    columns = ['CH4', 'N2O'],\n",
    "    index = np.arange(1750, 1902)\n",
    ")\n",
    "concentrations"
   ]
  },
  {
   "cell_type": "code",
   "execution_count": null,
   "id": "3697fdef-8bc1-499e-849e-c73d4b6994a6",
   "metadata": {},
   "outputs": [],
   "source": [
    "ghg.values.shape"
   ]
  },
  {
   "cell_type": "code",
   "execution_count": null,
   "id": "70e26097-35fa-4d4e-9df1-da1806940cb6",
   "metadata": {},
   "outputs": [],
   "source": [
    "da_emissions = xr.load_dataarray(\n",
    "    \"../data/emissions/ssp_emissions_1750-2500.nc\"\n",
    ")"
   ]
  },
  {
   "cell_type": "code",
   "execution_count": null,
   "id": "445b9434-0daf-4239-9527-ca8711c06663",
   "metadata": {},
   "outputs": [],
   "source": [
    "df_configs = pd.read_csv(\n",
    "    \"../data/fair2.1-parameters/calibration-1.4.2/calibrated_constrained_parameters.csv\",\n",
    "    index_col=0,\n",
    ")\n",
    "valid_all = df_configs.index"
   ]
  },
  {
   "cell_type": "code",
   "execution_count": null,
   "id": "a99d9c52-7c23-46d5-a9d5-37a2738fff56",
   "metadata": {},
   "outputs": [],
   "source": [
    "emissions = da_emissions.sel(scenario='ssp119', specie=['Sulfur', 'BC', 'OC', 'NH3', 'CO', 'VOC', 'NOx'], timepoints=np.arange(1750.5, 1901), config='unspecified')"
   ]
  },
  {
   "cell_type": "code",
   "execution_count": null,
   "id": "d60b258e-df14-422f-bdc4-d809f3451747",
   "metadata": {},
   "outputs": [],
   "source": [
    "f = FAIR(temperature_prescribed=True, ghg_method='myhre1998')"
   ]
  },
  {
   "cell_type": "code",
   "execution_count": null,
   "id": "12c502a5-6af6-4bbb-8065-1b801a8a577f",
   "metadata": {},
   "outputs": [],
   "source": [
    "f.define_time(1750, 1901, 1)\n",
    "f.define_scenarios(['ssp119'])\n",
    "f.define_configs(valid_all)"
   ]
  },
  {
   "cell_type": "code",
   "execution_count": null,
   "id": "b5bd4702-e8a1-4c5d-a3bf-3ad8c2f6bed9",
   "metadata": {},
   "outputs": [],
   "source": [
    "species = ['Sulfur', 'BC', 'OC', 'NH3', 'CO', 'VOC', 'NOx', 'CH4', 'N2O', 'Aerosol-radiation interactions', 'Aerosol-cloud interactions', 'Ozone']"
   ]
  },
  {
   "cell_type": "code",
   "execution_count": null,
   "id": "c52757d8-01d9-4d32-8a95-fd0f0e618dd3",
   "metadata": {},
   "outputs": [],
   "source": [
    "properties = {\n",
    "    'CH4': {\n",
    "        'type': 'ch4',\n",
    "        'input_mode': 'concentration',\n",
    "        'greenhouse_gas': True,\n",
    "        'aerosol_chemistry_from_emissions': False,\n",
    "        'aerosol_chemistry_from_concentration': True, # we treat methane as a reactive gas\n",
    "    },\n",
    "    'N2O': {\n",
    "        'type': 'n2o',\n",
    "        'input_mode': 'concentration',\n",
    "        'greenhouse_gas': True,\n",
    "        'aerosol_chemistry_from_emissions': False,\n",
    "        'aerosol_chemistry_from_concentration': True, # we treat nitrous oxide as a reactive gas\n",
    "    },\n",
    "    'Sulfur': {\n",
    "        'type': 'sulfur',\n",
    "        'input_mode': 'emissions',\n",
    "        'greenhouse_gas': False,\n",
    "        'aerosol_chemistry_from_emissions': True,\n",
    "        'aerosol_chemistry_from_concentration': False,\n",
    "    },\n",
    "    'BC': {\n",
    "        'type': 'black carbon',\n",
    "        'input_mode': 'emissions',\n",
    "        'greenhouse_gas': False,\n",
    "        'aerosol_chemistry_from_emissions': True,\n",
    "        'aerosol_chemistry_from_concentration': False,\n",
    "    },\n",
    "    'OC': {\n",
    "        'type': 'organic carbon',\n",
    "        'input_mode': 'emissions',\n",
    "        'greenhouse_gas': False,\n",
    "        'aerosol_chemistry_from_emissions': True,\n",
    "        'aerosol_chemistry_from_concentration': False,\n",
    "    },\n",
    "    'VOC': {\n",
    "        'type': 'other slcf',\n",
    "        'input_mode': 'emissions',\n",
    "        'greenhouse_gas': False,\n",
    "        'aerosol_chemistry_from_emissions': True,\n",
    "        'aerosol_chemistry_from_concentration': False,\n",
    "    },\n",
    "    'NOx': {\n",
    "        'type': 'other slcf',\n",
    "        'input_mode': 'emissions',\n",
    "        'greenhouse_gas': False,\n",
    "        'aerosol_chemistry_from_emissions': True,\n",
    "        'aerosol_chemistry_from_concentration': False,\n",
    "    },\n",
    "    'NH3': {\n",
    "        'type': 'other slcf',\n",
    "        'input_mode': 'emissions',\n",
    "        'greenhouse_gas': False,\n",
    "        'aerosol_chemistry_from_emissions': True,\n",
    "        'aerosol_chemistry_from_concentration': False,\n",
    "    },\n",
    "    'CO': {\n",
    "        'type': 'other slcf',\n",
    "        'input_mode': 'emissions',\n",
    "        'greenhouse_gas': False,\n",
    "        'aerosol_chemistry_from_emissions': True,\n",
    "        'aerosol_chemistry_from_concentration': False,\n",
    "    },\n",
    "    'Aerosol-radiation interactions': {\n",
    "        'type': 'ari',\n",
    "        'input_mode': 'calculated',\n",
    "        'greenhouse_gas': False,\n",
    "        'aerosol_chemistry_from_emissions': False,\n",
    "        'aerosol_chemistry_from_concentration': False,\n",
    "    },\n",
    "    'Aerosol-cloud interactions': {\n",
    "        'type': 'aci',\n",
    "        'input_mode': 'calculated',\n",
    "        'greenhouse_gas': False,\n",
    "        'aerosol_chemistry_from_emissions': False,\n",
    "        'aerosol_chemistry_from_concentration': False,\n",
    "    },\n",
    "    'Ozone': {\n",
    "        'type': 'ozone',\n",
    "        'input_mode': 'calculated',\n",
    "        'greenhouse_gas': False,\n",
    "        'aerosol_chemistry_from_emissions': False,\n",
    "        'aerosol_chemistry_from_concentration': False,\n",
    "    }\n",
    "}"
   ]
  },
  {
   "cell_type": "code",
   "execution_count": null,
   "id": "9e9cf99d-dc2e-46f3-b7e7-239fa9f39ec0",
   "metadata": {},
   "outputs": [],
   "source": [
    "# fair.structure.species.species_types\n",
    "# move to doc!"
   ]
  },
  {
   "cell_type": "code",
   "execution_count": null,
   "id": "16dc7180-3b39-4bf2-9b22-2df480d5551e",
   "metadata": {},
   "outputs": [],
   "source": [
    "f.define_species(species, properties)"
   ]
  },
  {
   "cell_type": "code",
   "execution_count": null,
   "id": "920d6ca2-d556-4c74-98a5-9f4a2f60b08d",
   "metadata": {},
   "outputs": [],
   "source": [
    "f.allocate()"
   ]
  },
  {
   "cell_type": "code",
   "execution_count": null,
   "id": "97e88777-d8b2-486f-b541-693586585c5e",
   "metadata": {},
   "outputs": [],
   "source": [
    "for specie in ['Sulfur', 'BC', 'OC', 'NH3', 'CO', 'VOC', 'NOx']:\n",
    "    f.emissions.loc[dict(specie=specie)] = emissions.sel(specie=specie)"
   ]
  },
  {
   "cell_type": "code",
   "execution_count": null,
   "id": "828cbf8f-ab11-4634-8fbc-ecbf763c7611",
   "metadata": {},
   "outputs": [],
   "source": [
    "for specie in ['CH4', 'N2O']:\n",
    "    f.concentration.loc[dict(specie=specie)] = np.array(concentrations.loc[1750:1901, specie])[:, None, None]"
   ]
  },
  {
   "cell_type": "code",
   "execution_count": null,
   "id": "71201c3a-acd6-4440-b718-5ae1d1ec820f",
   "metadata": {},
   "outputs": [],
   "source": [
    "fill(\n",
    "    f.climate_configs[\"ocean_heat_capacity\"],\n",
    "    df_configs.loc[:, \"clim_c1\":\"clim_c3\"].values,\n",
    ")\n",
    "fill(\n",
    "    f.climate_configs[\"ocean_heat_transfer\"],\n",
    "    df_configs.loc[:, \"clim_kappa1\":\"clim_kappa3\"].values,\n",
    ")  # not massively robust, since relies on kappa1, kappa2, kappa3 being in adjacent cols\n",
    "fill(\n",
    "    f.climate_configs[\"deep_ocean_efficacy\"],\n",
    "    df_configs.loc[:, \"clim_epsilon\"],\n",
    ")\n",
    "fill(\n",
    "    f.climate_configs[\"gamma_autocorrelation\"],\n",
    "    df_configs.loc[:, \"clim_gamma\"],\n",
    ")\n",
    "fill(f.climate_configs[\"sigma_eta\"], df_configs.loc[:, \"clim_sigma_eta\"])\n",
    "fill(f.climate_configs[\"sigma_xi\"], df_configs.loc[:, \"clim_sigma_xi\"])\n",
    "#fill(f.climate_configs[\"seed\"], df_configs[\"seed\"])\n",
    "fill(f.climate_configs[\"stochastic_run\"], False)\n",
    "#fill(f.climate_configs[\"stochastic_run\"], True)\n",
    "#fill(f.climate_configs[\"use_seed\"], True)\n",
    "fill(f.climate_configs[\"forcing_4co2\"], df_configs.loc[:, \"clim_F_4xCO2\"])"
   ]
  },
  {
   "cell_type": "code",
   "execution_count": null,
   "id": "adff8ba7-ed99-4586-bde5-789994b38f0b",
   "metadata": {},
   "outputs": [],
   "source": [
    "# species level\n",
    "f.fill_species_configs()\n",
    "\n",
    "# aerosol indirect\n",
    "fill(f.species_configs[\"aci_scale\"], df_configs.loc[:, \"aci_beta\"])\n",
    "fill(\n",
    "    f.species_configs[\"aci_shape\"],\n",
    "    df_configs.loc[:, \"aci_shape_so2\"],\n",
    "    specie=\"Sulfur\",\n",
    ")\n",
    "fill(\n",
    "    f.species_configs[\"aci_shape\"],\n",
    "    df_configs.loc[:, \"aci_shape_bc\"],\n",
    "    specie=\"BC\",\n",
    ")\n",
    "fill(\n",
    "    f.species_configs[\"aci_shape\"],\n",
    "    df_configs.loc[:, \"aci_shape_oc\"],\n",
    "    specie=\"OC\",\n",
    ")\n",
    "\n",
    "# emissions adjustments for NOx\n",
    "fill(f.species_configs[\"baseline_emissions\"], 19.423526730206152, specie=\"NOx\")\n",
    "\n",
    "# aerosol direct\n",
    "for specie in [\n",
    "    \"BC\",\n",
    "    \"CH4\",\n",
    "    \"N2O\",\n",
    "    \"NH3\",\n",
    "    \"NOx\",\n",
    "    \"OC\",\n",
    "    \"Sulfur\",\n",
    "    \"VOC\",\n",
    "]:\n",
    "    fill(\n",
    "        f.species_configs[\"erfari_radiative_efficiency\"],\n",
    "        df_configs.loc[:, f\"ari_{specie}\"],\n",
    "        specie=specie,\n",
    "    )\n",
    "\n",
    "# ozone\n",
    "for specie in [\n",
    "    \"CH4\",\n",
    "    \"N2O\",\n",
    "    \"CO\",\n",
    "    \"VOC\",\n",
    "    \"NOx\",\n",
    "]:\n",
    "    fill(\n",
    "        f.species_configs[\"ozone_radiative_efficiency\"],\n",
    "        df_configs.loc[:, f\"o3_{specie}\"],\n",
    "        specie=specie,\n",
    "    )\n",
    "\n",
    "# initial conditions\n",
    "initialise(f.forcing, 0)\n",
    "fill(f.temperature, 0)"
   ]
  },
  {
   "cell_type": "code",
   "execution_count": null,
   "id": "43a91d72-e808-4402-9dac-896bb4aa7749",
   "metadata": {},
   "outputs": [],
   "source": [
    "f.run()"
   ]
  },
  {
   "cell_type": "code",
   "execution_count": null,
   "id": "6b5b7285-a5f3-4952-b153-1ee7e06c1774",
   "metadata": {},
   "outputs": [],
   "source": [
    "pl.plot(\n",
    "    f.timebounds,\n",
    "    (\n",
    "        f.forcing.sel(specie='Aerosol-radiation interactions', scenario='ssp119') +\n",
    "        f.forcing.sel(specie='Aerosol-cloud interactions', scenario='ssp119')\n",
    "    ).median(dim='config')\n",
    ");"
   ]
  },
  {
   "cell_type": "code",
   "execution_count": null,
   "id": "f29d4b67-4e9d-45a3-ac0c-7b7271b83b0e",
   "metadata": {},
   "outputs": [],
   "source": [
    "pl.plot(\n",
    "    f.timebounds,\n",
    "    f.forcing.sel(specie='Ozone', scenario='ssp119').median(dim='config')\n",
    ");"
   ]
  },
  {
   "cell_type": "code",
   "execution_count": null,
   "id": "f482ae77-468e-4abe-8d99-5ef869589d17",
   "metadata": {},
   "outputs": [],
   "source": []
  }
 ],
 "metadata": {
  "kernelspec": {
   "display_name": "Python 3 (ipykernel)",
   "language": "python",
   "name": "python3"
  },
  "language_info": {
   "codemirror_mode": {
    "name": "ipython",
    "version": 3
   },
   "file_extension": ".py",
   "mimetype": "text/x-python",
   "name": "python",
   "nbconvert_exporter": "python",
   "pygments_lexer": "ipython3",
   "version": "3.11.0"
  }
 },
 "nbformat": 4,
 "nbformat_minor": 5
}
