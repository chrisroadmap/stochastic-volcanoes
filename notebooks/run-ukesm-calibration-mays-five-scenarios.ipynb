{
 "cells": [
  {
   "cell_type": "markdown",
   "id": "0",
   "metadata": {},
   "source": [
    "# Run calibration 1.4.2 with May's five scenarios\n",
    "\n",
    "Run annually with UKESM1-0-LL calibration of fair.\n",
    "\n",
    "- 5 scenarios from May's GRL paper with the 1000 member ensemble from v1.4.2 (1000 x 5)\n",
    "  - 65 (2.5th percentile)\n",
    "  - 204 (50.0th percentile)\n",
    "  - 824 (50.5th percentile)\n",
    "  - 466 (97.5th percentile)\n",
    "  - 364 (98.0th percentile)\n",
    "- Run all above with the average forcing from each ensemble member (+ 1000 x 5)"
   ]
  },
  {
   "cell_type": "code",
   "execution_count": 1,
   "id": "1",
   "metadata": {},
   "outputs": [],
   "source": [
    "import os\n",
    "\n",
    "import matplotlib.pyplot as pl\n",
    "import numpy as np\n",
    "import pandas as pd\n",
    "import pooch\n",
    "import xarray as xr\n",
    "from tqdm.auto import tqdm\n",
    "\n",
    "from fair import FAIR\n",
    "from fair.interface import fill, initialise\n",
    "from fair.io import read_properties"
   ]
  },
  {
   "cell_type": "code",
   "execution_count": 2,
   "id": "2",
   "metadata": {},
   "outputs": [],
   "source": [
    "scenarios = [\"ssp370\"]"
   ]
  },
  {
   "cell_type": "code",
   "execution_count": 3,
   "id": "3",
   "metadata": {},
   "outputs": [],
   "source": [
    "df_solar = pd.read_csv(\n",
    "    \"../data/fair2.1-parameters/ukesm/natural_forcing.csv\", index_col=0\n",
    ")\n",
    "df_volcanic_hist = pd.read_csv(\n",
    "    \"../data/volcanic-forcing/yearly/forcing_yearly_cmip6_1850-2014.csv\", index_col=0\n",
    ")"
   ]
  },
  {
   "cell_type": "code",
   "execution_count": 4,
   "id": "cf03eebd-3fce-455b-ab39-849bb5c0bb68",
   "metadata": {},
   "outputs": [],
   "source": [
    "climate_response_df = pd.read_csv('../data/fair2.1-parameters/ukesm/4xCO2_energy_balance_ebm3.csv')"
   ]
  },
  {
   "cell_type": "code",
   "execution_count": 5,
   "id": "d0cd7ef9-0d91-443f-8dc5-fdf42e5d287c",
   "metadata": {},
   "outputs": [
    {
     "data": {
      "text/plain": [
       "1850    0.000000\n",
       "1851   -0.012730\n",
       "1852   -0.019931\n",
       "1853   -0.020958\n",
       "1854   -0.034266\n",
       "          ...   \n",
       "2296   -0.028256\n",
       "2297    0.002412\n",
       "2298    0.035358\n",
       "2299    0.036211\n",
       "2300    0.011096\n",
       "Name: solar, Length: 451, dtype: float64"
      ]
     },
     "execution_count": 5,
     "metadata": {},
     "output_type": "execute_result"
    }
   ],
   "source": [
    "df_solar['solar']"
   ]
  },
  {
   "cell_type": "markdown",
   "id": "3e88c132-4dd3-466e-b4a5-94d1dd4704a0",
   "metadata": {},
   "source": [
    "UKESM calibration of fair\n",
    "\n",
    "ERF = -19.742 SAOD + 0.31227"
   ]
  },
  {
   "cell_type": "code",
   "execution_count": 6,
   "id": "73e15228-aafc-418c-bade-6146dfb5ce5f",
   "metadata": {},
   "outputs": [
    {
     "data": {
      "text/html": [
       "<div>\n",
       "<style scoped>\n",
       "    .dataframe tbody tr th:only-of-type {\n",
       "        vertical-align: middle;\n",
       "    }\n",
       "\n",
       "    .dataframe tbody tr th {\n",
       "        vertical-align: top;\n",
       "    }\n",
       "\n",
       "    .dataframe thead th {\n",
       "        text-align: right;\n",
       "    }\n",
       "</style>\n",
       "<table border=\"1\" class=\"dataframe\">\n",
       "  <thead>\n",
       "    <tr style=\"text-align: right;\">\n",
       "      <th></th>\n",
       "      <th>Global yearly mean SAOD at 550nm</th>\n",
       "      <th>Global yearly mean TOA ERF (W/m2)</th>\n",
       "    </tr>\n",
       "    <tr>\n",
       "      <th>Time (year)</th>\n",
       "      <th></th>\n",
       "      <th></th>\n",
       "    </tr>\n",
       "  </thead>\n",
       "  <tbody>\n",
       "    <tr>\n",
       "      <th>2015</th>\n",
       "      <td>0.003637</td>\n",
       "      <td>-0.019482</td>\n",
       "    </tr>\n",
       "    <tr>\n",
       "      <th>2016</th>\n",
       "      <td>0.004091</td>\n",
       "      <td>-0.028884</td>\n",
       "    </tr>\n",
       "    <tr>\n",
       "      <th>2017</th>\n",
       "      <td>0.004631</td>\n",
       "      <td>-0.040027</td>\n",
       "    </tr>\n",
       "    <tr>\n",
       "      <th>2018</th>\n",
       "      <td>0.010246</td>\n",
       "      <td>-0.155725</td>\n",
       "    </tr>\n",
       "    <tr>\n",
       "      <th>2019</th>\n",
       "      <td>0.058829</td>\n",
       "      <td>-1.129954</td>\n",
       "    </tr>\n",
       "    <tr>\n",
       "      <th>...</th>\n",
       "      <td>...</td>\n",
       "      <td>...</td>\n",
       "    </tr>\n",
       "    <tr>\n",
       "      <th>2096</th>\n",
       "      <td>0.007563</td>\n",
       "      <td>-0.100525</td>\n",
       "    </tr>\n",
       "    <tr>\n",
       "      <th>2097</th>\n",
       "      <td>0.006349</td>\n",
       "      <td>-0.075507</td>\n",
       "    </tr>\n",
       "    <tr>\n",
       "      <th>2098</th>\n",
       "      <td>0.005069</td>\n",
       "      <td>-0.049086</td>\n",
       "    </tr>\n",
       "    <tr>\n",
       "      <th>2099</th>\n",
       "      <td>0.004102</td>\n",
       "      <td>-0.029105</td>\n",
       "    </tr>\n",
       "    <tr>\n",
       "      <th>2100</th>\n",
       "      <td>0.003763</td>\n",
       "      <td>-0.022105</td>\n",
       "    </tr>\n",
       "  </tbody>\n",
       "</table>\n",
       "<p>86 rows × 2 columns</p>\n",
       "</div>"
      ],
      "text/plain": [
       "             Global yearly mean SAOD at 550nm  \\\n",
       "Time (year)                                     \n",
       "2015                                 0.003637   \n",
       "2016                                 0.004091   \n",
       "2017                                 0.004631   \n",
       "2018                                 0.010246   \n",
       "2019                                 0.058829   \n",
       "...                                       ...   \n",
       "2096                                 0.007563   \n",
       "2097                                 0.006349   \n",
       "2098                                 0.005069   \n",
       "2099                                 0.004102   \n",
       "2100                                 0.003763   \n",
       "\n",
       "             Global yearly mean TOA ERF (W/m2)  \n",
       "Time (year)                                     \n",
       "2015                                 -0.019482  \n",
       "2016                                 -0.028884  \n",
       "2017                                 -0.040027  \n",
       "2018                                 -0.155725  \n",
       "2019                                 -1.129954  \n",
       "...                                        ...  \n",
       "2096                                 -0.100525  \n",
       "2097                                 -0.075507  \n",
       "2098                                 -0.049086  \n",
       "2099                                 -0.029105  \n",
       "2100                                 -0.022105  \n",
       "\n",
       "[86 rows x 2 columns]"
      ]
     },
     "execution_count": 6,
     "metadata": {},
     "output_type": "execute_result"
    }
   ],
   "source": [
    "df_yearly_scen = pd.read_csv(\n",
    "    f\"../data/volcanic-forcing/yearly/forcing_yearly_scen1.csv\", index_col=0\n",
    ")\n",
    "df_yearly_scen"
   ]
  },
  {
   "cell_type": "code",
   "execution_count": 7,
   "id": "8",
   "metadata": {},
   "outputs": [
    {
     "data": {
      "application/vnd.jupyter.widget-view+json": {
       "model_id": "40f232a2f86342119d48ea6d23946c2e",
       "version_major": 2,
       "version_minor": 0
      },
      "text/plain": [
       "0it [00:00, ?it/s]"
      ]
     },
     "metadata": {},
     "output_type": "display_data"
    }
   ],
   "source": [
    "volcanic_forcing = np.zeros((352, 1, 5))\n",
    "solar_forcing = np.zeros((352))\n",
    "solar_forcing[100:] = df_solar['solar'].loc[1850:2101].values.squeeze()\n",
    "\n",
    "for ivolc, volcanic_config in tqdm(enumerate([65, 204, 824, 466, 364])):\n",
    "    df_yearly_scen = pd.read_csv(\n",
    "        f\"../data/volcanic-forcing/yearly/forcing_yearly_scen{volcanic_config}.csv\", index_col=0\n",
    "    )\n",
    "    volcanic_future = df_yearly_scen['Global yearly mean TOA ERF (W/m2)']\n",
    "    volcanic_forcing[:101, 0, ivolc] = 0\n",
    "    volcanic_forcing[101:266, 0, ivolc] = -19.742 * (\n",
    "        df_volcanic_hist['Global yearly mean SAOD at 550nm']\n",
    "    ).to_numpy() + 0.31227\n",
    "    volcanic_forcing[266:, 0, ivolc] = -19.742 * (\n",
    "        df_yearly_scen['Global yearly mean SAOD at 550nm']\n",
    "    ).to_numpy() + 0.31227\n",
    "\n",
    "f = FAIR(ch4_method=\"Thornhill2021\")\n",
    "f.define_time(1750, 2101, 1)\n",
    "f.define_scenarios(scenarios)\n",
    "f.define_configs([65, 204, 824, 466, 364])\n",
    "species, properties = read_properties()\n",
    "species.remove('CO2 FFI')      # c-driven run\n",
    "species.remove(\"Halon-1202\")\n",
    "species.remove(\"NOx aviation\")\n",
    "species.remove(\"Contrails\")\n",
    "species.remove('Light absorbing particles on snow and ice')  # I believe not modelled in UKESM\n",
    "del properties['CO2 FFI']\n",
    "#del properties['CO2 AFOLU']\n",
    "del properties['Halon-1202']\n",
    "del properties['Contrails']\n",
    "del properties['NOx aviation']\n",
    "del properties['Light absorbing particles on snow and ice']\n",
    "\n",
    "for specie in species:\n",
    "    if properties[specie]['greenhouse_gas']:\n",
    "        properties[specie]['input_mode'] = 'concentration'\n",
    "        \n",
    "f.define_species(species, properties)\n",
    "f.allocate()\n",
    "    \n",
    "f.fill_from_rcmip()\n",
    "    \n",
    "# climate response\n",
    "fill(f.climate_configs['ocean_heat_capacity'], climate_response_df.loc[0, 'C1':'C3'])\n",
    "fill(f.climate_configs['ocean_heat_transfer'], climate_response_df.loc[0, 'kappa1':'kappa3'])\n",
    "fill(f.climate_configs['deep_ocean_efficacy'], climate_response_df.loc[0, 'epsilon'])\n",
    "fill(f.climate_configs['gamma_autocorrelation'], climate_response_df.loc[0, 'gamma'])\n",
    "        \n",
    "# species level\n",
    "f.fill_species_configs()\n",
    "    \n",
    "# 1850 baselines\n",
    "for specie in ['Sulfur', 'BC', 'OC', 'NOx', 'VOC', 'CO', 'NH3']:\n",
    "    f.species_configs['baseline_emissions'].loc[dict(specie=specie)] = f.emissions.loc[\n",
    "        dict(specie=specie, timepoints=1850.5, scenario='ssp370')\n",
    "    ]\n",
    "\n",
    "for specie in ['CO2', 'CH4', 'N2O', 'CFC-11', 'CFC-12', 'CFC-113', 'CFC-114', 'CFC-115', 'HCFC-22', 'HCFC-141b', 'HCFC-142b',\n",
    "    'CCl4', 'CHCl3', 'CH2Cl2', 'CH3Cl', 'CH3CCl3', 'CH3Br', 'Halon-1211', 'Halon-1301', 'Halon-2402',\n",
    "    'CF4', 'C2F6', 'C3F8', 'c-C4F8', 'C4F10', 'C5F12', 'C6F14', 'C7F16', 'C8F18', 'NF3', 'SF6', 'SO2F2',\n",
    "    'HFC-125', 'HFC-134a', 'HFC-143a', 'HFC-152a', 'HFC-227ea', 'HFC-23', 'HFC-236fa', 'HFC-245fa',\n",
    "    'HFC-32', 'HFC-365mfc', 'HFC-4310mee']:\n",
    "    f.species_configs['baseline_concentration'].loc[dict(specie=specie)] = f.concentration.loc[\n",
    "        dict(specie=specie, timebounds=1850, scenario='ssp370')\n",
    "    ]\n",
    "\n",
    "f.species_configs['baseline_concentration'].loc[dict(specie='Equivalent effective stratospheric chlorine')] = 344.36275911\n",
    "\n",
    "ods = ['CFC-11', 'CFC-12', 'CFC-113', 'CFC-114', 'CFC-115', 'HCFC-22', 'HCFC-141b', 'HCFC-142b',\n",
    "    'CCl4', 'CHCl3', 'CH2Cl2', 'CH3Cl', 'CH3CCl3', 'CH3Br', 'Halon-1211', 'Halon-1301', 'Halon-2402']\n",
    "\n",
    "hfc = ['CF4', 'C2F6', 'C3F8', 'c-C4F8', 'C4F10', 'C5F12', 'C6F14', 'C7F16', 'C8F18', 'NF3', 'SF6', 'SO2F2',\n",
    "    'HFC-125', 'HFC-134a', 'HFC-143a', 'HFC-152a', 'HFC-227ea', 'HFC-23', 'HFC-236fa', 'HFC-245fa', 'HFC-32',\n",
    "    'HFC-365mfc', 'HFC-4310mee']\n",
    "\n",
    "# UKESM specific ESM component calibrations: DO NOT MODIFY\n",
    "f.species_configs['land_use_cumulative_emissions_to_forcing'].loc[dict(specie=\"CO2 AFOLU\")] = 0.0003024895261521421\n",
    "f.species_configs['forcing_scale'].loc[dict(specie=\"CH4\")] = 1.11547955\n",
    "f.species_configs['h2o_stratospheric_factor'].loc[dict(specie=\"CH4\")] = 1.29652705e-01\n",
    "f.species_configs['ozone_radiative_efficiency'].loc[dict(specie=\"CH4\")] = 1.27049657e-04\n",
    "f.species_configs['ozone_radiative_efficiency'].loc[dict(specie=\"Equivalent effective stratospheric chlorine\")] = -0.00029119797470220245\n",
    "f.species_configs['ozone_radiative_efficiency'].loc[dict(specie=\"N2O\")] = 0.0007481397748679878\n",
    "f.species_configs['ozone_radiative_efficiency'].loc[dict(specie=\"VOC\")] = 0.0006596999582126578\n",
    "f.species_configs['ozone_radiative_efficiency'].loc[dict(specie=\"NOx\")] = 0.000984642055228785\n",
    "f.species_configs['forcing_temperature_feedback'].loc[dict(specie=\"Ozone\")] = -0.079\n",
    "f.species_configs['forcing_scale'].loc[dict(specie=\"N2O\")] = 1.0845323023219764\n",
    "f.species_configs['forcing_scale'].loc[dict(specie=\"CO2\")] = 0.9935419214400296\n",
    "    \n",
    "for specie in species:\n",
    "    f.species_configs['erfari_radiative_efficiency'].loc[dict(specie=specie)] = 0\n",
    "f.species_configs['erfari_radiative_efficiency'].loc[dict(specie='Sulfur')] = -0.00283793\n",
    "f.species_configs['erfari_radiative_efficiency'].loc[dict(specie='BC')] = 0.01757433\n",
    "f.species_configs['erfari_radiative_efficiency'].loc[dict(specie='OC')] = -0.0028512\n",
    "f.species_configs['erfari_radiative_efficiency'].loc[dict(specie='CH4')] = -5.09377882e-05\n",
    "f.species_configs['aci_scale'].loc[:] = -8.22336280e-01\n",
    "f.species_configs['aci_shape'].loc[dict(specie='Sulfur')] = 3.01888722e-02\n",
    "f.species_configs['aci_shape'].loc[dict(specie='BC')] = 5.07111186e-30\n",
    "f.species_configs['aci_shape'].loc[dict(specie='OC')] = 6.60381587e-16\n",
    "f.species_configs['aci_shape'].loc[dict(specie=\"CH4\")] = -2.61186114e-04\n",
    "    \n",
    "for specie in ods:\n",
    "    f.species_configs['forcing_scale'].loc[dict(specie=specie)] = 1.33139609\n",
    "for specie in hfc:\n",
    "    f.species_configs['forcing_scale'].loc[dict(specie=specie)] = 0.25250486\n",
    "\n",
    "# solar and volcanic forcing\n",
    "fill(\n",
    "    f.forcing,\n",
    "    volcanic_forcing,\n",
    "    specie=\"Volcanic\",\n",
    ")\n",
    "\n",
    "fill(\n",
    "    f.forcing,\n",
    "    solar_forcing[:, None, None],\n",
    "    specie=\"Solar\",\n",
    ")\n",
    "\n",
    "# initial conditions\n",
    "initialise(f.forcing, 0)\n",
    "initialise(f.temperature, 0)\n",
    "    \n",
    "f.run(progress=False)\n",
    "    \n",
    "weights = np.zeros((352, 1, 5))\n",
    "weights[100, :, :] = 0.5\n",
    "weights[101:151, :, :] = 1\n",
    "weights[151, :, :] = 0.5\n",
    "weights = xr.DataArray(\n",
    "    weights, \n",
    "    dims=f.temperature.sel(layer=0).dims, \n",
    "    coords=f.temperature.sel(layer=0).coords\n",
    ")\n",
    "    \n",
    "output = (\n",
    "    f.temperature.sel(layer=0) - f.temperature.sel(layer=0).weighted(weights).mean(dim=\"timebounds\")\n",
    ").sel(scenario='ssp370', timebounds=np.arange(1850, 2102))"
   ]
  },
  {
   "cell_type": "code",
   "execution_count": 8,
   "id": "9",
   "metadata": {},
   "outputs": [
    {
     "data": {
      "image/png": "[encoded data removed]",
      "text/plain": [
       "<Figure size 640x480 with 1 Axes>"
      ]
     },
     "metadata": {},
     "output_type": "display_data"
    }
   ],
   "source": [
    "pl.plot(\n",
    "    f.timebounds[100:],\n",
    "    output\n",
    ");"
   ]
  },
  {
   "cell_type": "code",
   "execution_count": 9,
   "id": "10",
   "metadata": {},
   "outputs": [],
   "source": [
    "# SAVE OUT OUTPUT\n",
    "os.makedirs('../output', exist_ok=True)"
   ]
  },
  {
   "cell_type": "code",
   "execution_count": 10,
   "id": "11",
   "metadata": {},
   "outputs": [],
   "source": [
    "ds = xr.Dataset(\n",
    "    data_vars = dict(\n",
    "        temperature = ([\"timebounds\", \"volcanic_forcing\"], output.data),\n",
    "    ),\n",
    "    coords = dict(\n",
    "        timebounds = np.arange(1850, 2102),\n",
    "        volcanic_forcing = [65, 204, 824, 466, 364],\n",
    "    ),\n",
    ")"
   ]
  },
  {
   "cell_type": "code",
   "execution_count": 11,
   "id": "12",
   "metadata": {},
   "outputs": [],
   "source": [
    "ds.to_netcdf('../output/ukesm_calibration_five_scenarios.nc')"
   ]
  },
  {
   "cell_type": "code",
   "execution_count": null,
   "id": "18",
   "metadata": {},
   "outputs": [],
   "source": []
  }
 ],
 "metadata": {
  "kernelspec": {
   "display_name": "Python 3 (ipykernel)",
   "language": "python",
   "name": "python3"
  },
  "language_info": {
   "codemirror_mode": {
    "name": "ipython",
    "version": 3
   },
   "file_extension": ".py",
   "mimetype": "text/x-python",
   "name": "python",
   "nbconvert_exporter": "python",
   "pygments_lexer": "ipython3",
   "version": "3.11.0"
  }
 },
 "nbformat": 4,
 "nbformat_minor": 5
}
